{
 "cells": [
  {
   "cell_type": "code",
   "execution_count": 32,
   "metadata": {},
   "outputs": [
    {
     "name": "stdout",
     "output_type": "stream",
     "text": [
      "Date: 2025-01-26 18:11:12\n",
      "Description: GalyaBaluvana\n",
      "Amount: -512.35 UAH\n",
      "Balance: 883.68 UAH\n",
      "------------------------------\n",
      "Date: 2025-01-25 21:35:05\n",
      "Description: PITsERIIa KISS LIKE PIZZA\n",
      "Amount: -445.00 UAH\n",
      "Balance: 1396.03 UAH\n",
      "------------------------------\n",
      "Date: 2025-01-25 21:06:06\n",
      "Description: Uklon\n",
      "Amount: -250.00 UAH\n",
      "Balance: 1841.03 UAH\n",
      "------------------------------\n",
      "Date: 2025-01-25 10:17:09\n",
      "Description: Uklon\n",
      "Amount: -244.00 UAH\n",
      "Balance: 2091.03 UAH\n",
      "------------------------------\n",
      "Date: 2025-01-25 08:48:05\n",
      "Description: Uklon\n",
      "Amount: -17.00 UAH\n",
      "Balance: 2335.03 UAH\n",
      "------------------------------\n",
      "Date: 2025-01-25 08:14:38\n",
      "Description: Uklon\n",
      "Amount: -219.00 UAH\n",
      "Balance: 2352.03 UAH\n",
      "------------------------------\n"
     ]
    }
   ],
   "source": [
    "import requests\n",
    "import time\n",
    "\n",
    "# Replace with your Monobank token\n",
    "MONOBANK_API_TOKEN = \"uPWW5UfoAbFhiyg_E_wEcGw3l27vRGVNJC07bb6kq3oI\"\n",
    "\n",
    "# Replace with your account ID\n",
    "ACCOUNT_ID = \"ElqYPuWOrMTAdaCYjiWDqg\"\n",
    "\n",
    "# Define time range in UNIX timestamp\n",
    "start_time = int(time.time()) - 3 * 24 * 60 * 60  # 7 days ago\n",
    "end_time = int(time.time())  # Current time\n",
    "\n",
    "# Monobank API URL\n",
    "url = f\"https://api.monobank.ua/personal/statement/{ACCOUNT_ID}/{start_time}/{end_time}\"\n",
    "\n",
    "# Set headers\n",
    "headers = {\n",
    "    \"X-Token\": MONOBANK_API_TOKEN\n",
    "}\n",
    "\n",
    "# Make the request\n",
    "try:\n",
    "    response = requests.get(url, headers=headers)\n",
    "    response.raise_for_status()  # Raise error for bad responses\n",
    "    transactions = response.json()\n",
    "\n",
    "    if not transactions:\n",
    "        print(\"No transactions found in the specified time range.\")\n",
    "\n",
    "    # Print transactions\n",
    "    for transaction in transactions:\n",
    "        print(f\"Date: {time.strftime('%Y-%m-%d %H:%M:%S', time.localtime(transaction['time']))}\")\n",
    "        print(f\"Description: {transaction['description']}\")\n",
    "        print(f\"Amount: {transaction['amount'] / 100:.2f} UAH\")  # Convert from kopecks\n",
    "        print(f\"Balance: {transaction['balance'] / 100:.2f} UAH\")\n",
    "        print(\"-\" * 30)\n",
    "except requests.exceptions.HTTPError as http_err:\n",
    "    print(f\"HTTP error occurred: {http_err}\")\n",
    "    print(f\"Response: {response.text}\")  # Show detailed error message\n",
    "except Exception as err:\n",
    "    print(f\"Other error occurred: {err}\")\n",
    "    \n"
   ]
  }
 ],
 "metadata": {
  "kernelspec": {
   "display_name": ".venv",
   "language": "python",
   "name": "python3"
  },
  "language_info": {
   "codemirror_mode": {
    "name": "ipython",
    "version": 3
   },
   "file_extension": ".py",
   "mimetype": "text/x-python",
   "name": "python",
   "nbconvert_exporter": "python",
   "pygments_lexer": "ipython3",
   "version": "3.9.6"
  }
 },
 "nbformat": 4,
 "nbformat_minor": 2
}

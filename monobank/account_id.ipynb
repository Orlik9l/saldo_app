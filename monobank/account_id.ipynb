{
 "cells": [
  {
   "cell_type": "code",
   "execution_count": 1,
   "metadata": {},
   "outputs": [
    {
     "name": "stderr",
     "output_type": "stream",
     "text": [
      "/Users/orlik9l/DataGripProjects/Private/.venv/lib/python3.9/site-packages/urllib3/__init__.py:35: NotOpenSSLWarning: urllib3 v2 only supports OpenSSL 1.1.1+, currently the 'ssl' module is compiled with 'LibreSSL 2.8.3'. See: https://github.com/urllib3/urllib3/issues/3020\n",
      "  warnings.warn(\n"
     ]
    },
    {
     "name": "stdout",
     "output_type": "stream",
     "text": [
      "Name: Орлов Богдан\n",
      "Accounts:\n",
      "- Account ID: ElqYPuWOrMTAdaCYjiWDqg, Balance: 88368, Currency Code: 980\n",
      "- Account ID: 92mTxY49VpPRrrgvxkPEWw, Balance: 0, Currency Code: 840\n",
      "- Account ID: io_Uw27-KrVlelm8Z4k67Q, Balance: 0, Currency Code: 978\n",
      "- Account ID: 4YLgJ-2DTNQpYV57wncHvw, Balance: 6750, Currency Code: 980\n",
      "- Account ID: aXuM59MhbZu5b-a0tUGGkg, Balance: 0, Currency Code: 980\n"
     ]
    }
   ],
   "source": [
    "import requests\n",
    "\n",
    "# Replace with your Monobank API token\n",
    "MONOBANK_API_TOKEN = \"uPWW5UfoAbFhiyg_E_wEcGw3l27vRGVNJC07bb6kq3oI\"\n",
    "\n",
    "# Monobank API URL for client info\n",
    "url = \"https://api.monobank.ua/personal/client-info\"\n",
    "\n",
    "# Set headers\n",
    "headers = {\n",
    "    \"X-Token\": MONOBANK_API_TOKEN\n",
    "}\n",
    "\n",
    "# Make the request\n",
    "try:\n",
    "    response = requests.get(url, headers=headers)\n",
    "    response.raise_for_status()  # Raise error for bad responses\n",
    "    client_info = response.json()\n",
    "\n",
    "    # Print account details\n",
    "    print(\"Name:\", client_info.get(\"name\"))\n",
    "    print(\"Accounts:\")\n",
    "    for account in client_info.get(\"accounts\", []):\n",
    "        print(f\"- Account ID: {account['id']}, Balance: {account['balance']}, Currency Code: {account['currencyCode']}\")\n",
    "except requests.exceptions.HTTPError as http_err:\n",
    "    print(f\"HTTP error occurred: {http_err}\")\n",
    "except Exception as err:\n",
    "    print(f\"Other error occurred: {err}\")\n"
   ]
  }
 ],
 "metadata": {
  "kernelspec": {
   "display_name": ".venv",
   "language": "python",
   "name": "python3"
  },
  "language_info": {
   "codemirror_mode": {
    "name": "ipython",
    "version": 3
   },
   "file_extension": ".py",
   "mimetype": "text/x-python",
   "name": "python",
   "nbconvert_exporter": "python",
   "pygments_lexer": "ipython3",
   "version": "3.9.6"
  }
 },
 "nbformat": 4,
 "nbformat_minor": 2
}
